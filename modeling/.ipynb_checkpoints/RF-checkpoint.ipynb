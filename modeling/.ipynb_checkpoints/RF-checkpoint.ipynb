{
 "cells": [
  {
   "cell_type": "code",
   "execution_count": 5,
   "id": "a549aa63-5f17-499f-8730-b3be750b6b74",
   "metadata": {},
   "outputs": [],
   "source": [
    "import joblib\n",
    "from sklearn.model_selection import train_test_split\n",
    "from sklearn.ensemble import RandomForestClassifier\n",
    "from sklearn.metrics import classification_report\n",
    "\n",
    "X = joblib.load('X.joblib')\n",
    "y = joblib.load('y.joblib')\n"
   ]
  },
  {
   "cell_type": "code",
   "execution_count": 6,
   "id": "f1a4c816-e84d-4e96-bb58-abd54db682b6",
   "metadata": {},
   "outputs": [
    {
     "name": "stdout",
     "output_type": "stream",
     "text": [
      "              precision    recall  f1-score   support\n",
      "\n",
      "           0       0.93      0.88      0.90       192\n",
      "           1       0.64      0.88      0.74       123\n",
      "           2       0.91      0.81      0.86       264\n",
      "           3       0.90      0.83      0.86       275\n",
      "           4       0.91      0.88      0.90       252\n",
      "           5       0.77      0.88      0.82       241\n",
      "           6       0.89      0.85      0.87       197\n",
      "           7       0.86      0.85      0.86       190\n",
      "\n",
      "    accuracy                           0.85      1734\n",
      "   macro avg       0.85      0.86      0.85      1734\n",
      "weighted avg       0.86      0.85      0.86      1734\n",
      "\n"
     ]
    }
   ],
   "source": [
    " X_train, X_test, y_train, y_test = train_test_split(X, y, test_size=0.33, random_state=42)\n",
    "rforest = RandomForestClassifier()\n",
    " rforest.fit(X_train, y_train)\n",
    "predictions = rforest.predict(X_test)\n",
    "\n",
    "print(classification_report(y_test, predictions))"
   ]
  },
  {
   "cell_type": "code",
   "execution_count": 8,
   "id": "9cb668f6-2bb4-469a-80c2-daa7a4c47dcf",
   "metadata": {},
   "outputs": [
    {
     "name": "stdout",
     "output_type": "stream",
     "text": [
      "----train accuracy score 100.0 ----\n",
      "----test accuracy score 85.46712802768167 ----\n"
     ]
    }
   ],
   "source": [
    "train_acc = float(rforest.score(X_train, y_train)*100)\n",
    "print(\"----train accuracy score %s ----\" % train_acc)\n",
    "\n",
    "test_acc = float(rforest.score(X_test, y_test)*100)\n",
    "print(\"----test accuracy score %s ----\" % test_acc)"
   ]
  },
  {
   "cell_type": "code",
   "execution_count": null,
   "id": "17f84e13-56a8-420e-80d5-4b863ea94a01",
   "metadata": {},
   "outputs": [],
   "source": []
  }
 ],
 "metadata": {
  "kernelspec": {
   "display_name": "Python 3 (ipykernel)",
   "language": "python",
   "name": "python3"
  },
  "language_info": {
   "codemirror_mode": {
    "name": "ipython",
    "version": 3
   },
   "file_extension": ".py",
   "mimetype": "text/x-python",
   "name": "python",
   "nbconvert_exporter": "python",
   "pygments_lexer": "ipython3",
   "version": "3.9.6"
  }
 },
 "nbformat": 4,
 "nbformat_minor": 5
}
