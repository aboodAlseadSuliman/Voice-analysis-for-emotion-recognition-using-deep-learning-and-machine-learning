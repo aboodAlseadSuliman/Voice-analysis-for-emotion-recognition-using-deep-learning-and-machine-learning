{
 "metadata": {
  "language_info": {
   "codemirror_mode": {
    "name": "ipython",
    "version": 3
   },
   "file_extension": ".py",
   "mimetype": "text/x-python",
   "name": "python",
   "nbconvert_exporter": "python",
   "pygments_lexer": "ipython3",
   "version": "3.9.2"
  },
  "orig_nbformat": 2,
  "kernelspec": {
   "name": "python3",
   "display_name": "Python 3",
   "language": "python"
  }
 },
 "nbformat": 4,
 "nbformat_minor": 2,
 "cells": [
  {
   "cell_type": "code",
   "execution_count": 1,
   "metadata": {},
   "outputs": [
    {
     "output_type": "stream",
     "name": "stdout",
     "text": [
      "[[159   6   0   4   0   3   0   1]\n [  1  75   0  16   1   1   4   5]\n [  5  11 180   7  15   8   8   9]\n [  9  15   8 196   1  15   5   7]\n [  3   0   5   0 185  10   4   4]\n [  1   2  17  25  10 172   2   2]\n [  6   9   5   4   5   3 129   8]\n [  3   5  12   3   5   7   5 150]]\n              precision    recall  f1-score   support\n\n           0       0.85      0.92      0.88       173\n           1       0.61      0.73      0.66       103\n           2       0.79      0.74      0.77       243\n           3       0.77      0.77      0.77       256\n           4       0.83      0.88      0.85       211\n           5       0.79      0.74      0.76       231\n           6       0.82      0.76      0.79       169\n           7       0.81      0.79      0.80       190\n\n    accuracy                           0.79      1576\n   macro avg       0.78      0.79      0.79      1576\nweighted avg       0.79      0.79      0.79      1576\n\nAccuracy: 0.7906091370558376\n"
     ]
    }
   ],
   "source": [
    "# Gaussian Kernal\n",
    "import numpy as np\n",
    "import matplotlib.pyplot as plt\n",
    "import pandas as pd\n",
    "import joblib\n",
    "from sklearn import metrics #Import scikit-learn metrics module for accuracy calculation\n",
    "\n",
    "X = joblib.load('X.joblib')\n",
    "y = joblib.load('y.joblib')\n",
    "\n",
    "from sklearn.model_selection import train_test_split\n",
    "X_train, X_test, y_train, y_test = train_test_split(X, y, test_size = 0.3,random_state=100)\n",
    "\n",
    "from sklearn.svm import SVC\n",
    "svclassifier = SVC(C=1000,kernel='rbf')\n",
    "svclassifier.fit(X_train, y_train)\n",
    "\n",
    "y_pred = svclassifier.predict(X_test)\n",
    "\n",
    "from sklearn.metrics import classification_report, confusion_matrix\n",
    "print(confusion_matrix(y_test, y_pred))\n",
    "print(classification_report(y_test, y_pred))\n",
    "\n",
    "print(\"Accuracy:\",metrics.accuracy_score(y_test, y_pred))\n",
    "\n"
   ]
  }
 ]
}